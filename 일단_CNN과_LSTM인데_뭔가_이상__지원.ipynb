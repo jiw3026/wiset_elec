{
  "nbformat": 4,
  "nbformat_minor": 0,
  "metadata": {
    "colab": {
      "provenance": []
    },
    "kernelspec": {
      "name": "python3",
      "display_name": "Python 3"
    },
    "language_info": {
      "name": "python"
    }
  },
  "cells": [
    {
      "cell_type": "code",
      "execution_count": 1,
      "metadata": {
        "id": "V4WqCHCYGZgh"
      },
      "outputs": [],
      "source": [
        "# 필요한 라이브러리를 불러옵니다.\n",
        "import pandas as pd\n",
        "from keras.models import Sequential\n",
        "from keras.layers import LSTM, Dense, Dropout, Conv1D, MaxPooling1D, Flatten\n",
        "from sklearn.model_selection import train_test_split\n",
        "from sklearn.preprocessing import MinMaxScaler"
      ]
    },
    {
      "cell_type": "code",
      "source": [
        "# 데이터를 불러옵니다.\n",
        "data1 = pd.read_csv('/content/Testfile1.csv')\n",
        "data2 = pd.read_csv('/content/Testfile2.csv')\n",
        "data3 = pd.read_csv('/content/Testfile3.csv')\n",
        "data4 = pd.read_csv('/content/Testfile4.csv')"
      ],
      "metadata": {
        "id": "mVi_rZBdH3D_"
      },
      "execution_count": 2,
      "outputs": []
    },
    {
      "cell_type": "code",
      "source": [
        "data1.describe()"
      ],
      "metadata": {
        "colab": {
          "base_uri": "https://localhost:8080/",
          "height": 300
        },
        "id": "CSWVUsACJg0F",
        "outputId": "7006d1ff-123f-4246-b89c-5bd3fc7b4745"
      },
      "execution_count": 4,
      "outputs": [
        {
          "output_type": "execute_result",
          "data": {
            "text/plain": [
              "           Time(s)       VOLT 1       VOLT 2       VOLT 3       VOLT 4  \\\n",
              "count  1206.000000  1206.000000  1206.000000  1206.000000  1206.000000   \n",
              "mean      2.495107     1.013192     1.020407     1.022669     1.004779   \n",
              "std       1.448532     0.149235     0.027505     0.029409     0.118965   \n",
              "min      -0.008332     0.000001     0.834918     0.832243     0.195190   \n",
              "25%       1.238345     1.033644     1.015294     1.014639     1.018147   \n",
              "50%       2.493341     1.038110     1.025000     1.025000     1.025788   \n",
              "75%       3.748315     1.040161     1.032640     1.037722     1.028567   \n",
              "max       5.003345     1.045761     1.040948     1.048452     1.035989   \n",
              "\n",
              "            VOLT 5       VOLT 6       VOLT 7       VOLT 8       VOLT 9  \n",
              "count  1206.000000  1206.000000  1206.000000  1206.000000  1206.000000  \n",
              "mean      0.979085     0.996622     1.018061     1.008705     1.026076  \n",
              "std       0.094403     0.094242     0.046420     0.046586     0.045978  \n",
              "min       0.335088     0.354287     0.699998     0.690592     0.714333  \n",
              "25%       0.987180     1.003962     1.016070     1.005905     1.022271  \n",
              "50%       0.995631     1.012654     1.025769     1.015883     1.032353  \n",
              "75%       1.000247     1.018234     1.033438     1.024668     1.042704  \n",
              "max       1.008399     1.026672     1.042123     1.033876     1.052526  "
            ],
            "text/html": [
              "\n",
              "  <div id=\"df-ee1c9c35-b074-4933-88fd-f57ec806a89e\" class=\"colab-df-container\">\n",
              "    <div>\n",
              "<style scoped>\n",
              "    .dataframe tbody tr th:only-of-type {\n",
              "        vertical-align: middle;\n",
              "    }\n",
              "\n",
              "    .dataframe tbody tr th {\n",
              "        vertical-align: top;\n",
              "    }\n",
              "\n",
              "    .dataframe thead th {\n",
              "        text-align: right;\n",
              "    }\n",
              "</style>\n",
              "<table border=\"1\" class=\"dataframe\">\n",
              "  <thead>\n",
              "    <tr style=\"text-align: right;\">\n",
              "      <th></th>\n",
              "      <th>Time(s)</th>\n",
              "      <th>VOLT 1</th>\n",
              "      <th>VOLT 2</th>\n",
              "      <th>VOLT 3</th>\n",
              "      <th>VOLT 4</th>\n",
              "      <th>VOLT 5</th>\n",
              "      <th>VOLT 6</th>\n",
              "      <th>VOLT 7</th>\n",
              "      <th>VOLT 8</th>\n",
              "      <th>VOLT 9</th>\n",
              "    </tr>\n",
              "  </thead>\n",
              "  <tbody>\n",
              "    <tr>\n",
              "      <th>count</th>\n",
              "      <td>1206.000000</td>\n",
              "      <td>1206.000000</td>\n",
              "      <td>1206.000000</td>\n",
              "      <td>1206.000000</td>\n",
              "      <td>1206.000000</td>\n",
              "      <td>1206.000000</td>\n",
              "      <td>1206.000000</td>\n",
              "      <td>1206.000000</td>\n",
              "      <td>1206.000000</td>\n",
              "      <td>1206.000000</td>\n",
              "    </tr>\n",
              "    <tr>\n",
              "      <th>mean</th>\n",
              "      <td>2.495107</td>\n",
              "      <td>1.013192</td>\n",
              "      <td>1.020407</td>\n",
              "      <td>1.022669</td>\n",
              "      <td>1.004779</td>\n",
              "      <td>0.979085</td>\n",
              "      <td>0.996622</td>\n",
              "      <td>1.018061</td>\n",
              "      <td>1.008705</td>\n",
              "      <td>1.026076</td>\n",
              "    </tr>\n",
              "    <tr>\n",
              "      <th>std</th>\n",
              "      <td>1.448532</td>\n",
              "      <td>0.149235</td>\n",
              "      <td>0.027505</td>\n",
              "      <td>0.029409</td>\n",
              "      <td>0.118965</td>\n",
              "      <td>0.094403</td>\n",
              "      <td>0.094242</td>\n",
              "      <td>0.046420</td>\n",
              "      <td>0.046586</td>\n",
              "      <td>0.045978</td>\n",
              "    </tr>\n",
              "    <tr>\n",
              "      <th>min</th>\n",
              "      <td>-0.008332</td>\n",
              "      <td>0.000001</td>\n",
              "      <td>0.834918</td>\n",
              "      <td>0.832243</td>\n",
              "      <td>0.195190</td>\n",
              "      <td>0.335088</td>\n",
              "      <td>0.354287</td>\n",
              "      <td>0.699998</td>\n",
              "      <td>0.690592</td>\n",
              "      <td>0.714333</td>\n",
              "    </tr>\n",
              "    <tr>\n",
              "      <th>25%</th>\n",
              "      <td>1.238345</td>\n",
              "      <td>1.033644</td>\n",
              "      <td>1.015294</td>\n",
              "      <td>1.014639</td>\n",
              "      <td>1.018147</td>\n",
              "      <td>0.987180</td>\n",
              "      <td>1.003962</td>\n",
              "      <td>1.016070</td>\n",
              "      <td>1.005905</td>\n",
              "      <td>1.022271</td>\n",
              "    </tr>\n",
              "    <tr>\n",
              "      <th>50%</th>\n",
              "      <td>2.493341</td>\n",
              "      <td>1.038110</td>\n",
              "      <td>1.025000</td>\n",
              "      <td>1.025000</td>\n",
              "      <td>1.025788</td>\n",
              "      <td>0.995631</td>\n",
              "      <td>1.012654</td>\n",
              "      <td>1.025769</td>\n",
              "      <td>1.015883</td>\n",
              "      <td>1.032353</td>\n",
              "    </tr>\n",
              "    <tr>\n",
              "      <th>75%</th>\n",
              "      <td>3.748315</td>\n",
              "      <td>1.040161</td>\n",
              "      <td>1.032640</td>\n",
              "      <td>1.037722</td>\n",
              "      <td>1.028567</td>\n",
              "      <td>1.000247</td>\n",
              "      <td>1.018234</td>\n",
              "      <td>1.033438</td>\n",
              "      <td>1.024668</td>\n",
              "      <td>1.042704</td>\n",
              "    </tr>\n",
              "    <tr>\n",
              "      <th>max</th>\n",
              "      <td>5.003345</td>\n",
              "      <td>1.045761</td>\n",
              "      <td>1.040948</td>\n",
              "      <td>1.048452</td>\n",
              "      <td>1.035989</td>\n",
              "      <td>1.008399</td>\n",
              "      <td>1.026672</td>\n",
              "      <td>1.042123</td>\n",
              "      <td>1.033876</td>\n",
              "      <td>1.052526</td>\n",
              "    </tr>\n",
              "  </tbody>\n",
              "</table>\n",
              "</div>\n",
              "    <div class=\"colab-df-buttons\">\n",
              "\n",
              "  <div class=\"colab-df-container\">\n",
              "    <button class=\"colab-df-convert\" onclick=\"convertToInteractive('df-ee1c9c35-b074-4933-88fd-f57ec806a89e')\"\n",
              "            title=\"Convert this dataframe to an interactive table.\"\n",
              "            style=\"display:none;\">\n",
              "\n",
              "  <svg xmlns=\"http://www.w3.org/2000/svg\" height=\"24px\" viewBox=\"0 -960 960 960\">\n",
              "    <path d=\"M120-120v-720h720v720H120Zm60-500h600v-160H180v160Zm220 220h160v-160H400v160Zm0 220h160v-160H400v160ZM180-400h160v-160H180v160Zm440 0h160v-160H620v160ZM180-180h160v-160H180v160Zm440 0h160v-160H620v160Z\"/>\n",
              "  </svg>\n",
              "    </button>\n",
              "\n",
              "  <style>\n",
              "    .colab-df-container {\n",
              "      display:flex;\n",
              "      gap: 12px;\n",
              "    }\n",
              "\n",
              "    .colab-df-convert {\n",
              "      background-color: #E8F0FE;\n",
              "      border: none;\n",
              "      border-radius: 50%;\n",
              "      cursor: pointer;\n",
              "      display: none;\n",
              "      fill: #1967D2;\n",
              "      height: 32px;\n",
              "      padding: 0 0 0 0;\n",
              "      width: 32px;\n",
              "    }\n",
              "\n",
              "    .colab-df-convert:hover {\n",
              "      background-color: #E2EBFA;\n",
              "      box-shadow: 0px 1px 2px rgba(60, 64, 67, 0.3), 0px 1px 3px 1px rgba(60, 64, 67, 0.15);\n",
              "      fill: #174EA6;\n",
              "    }\n",
              "\n",
              "    .colab-df-buttons div {\n",
              "      margin-bottom: 4px;\n",
              "    }\n",
              "\n",
              "    [theme=dark] .colab-df-convert {\n",
              "      background-color: #3B4455;\n",
              "      fill: #D2E3FC;\n",
              "    }\n",
              "\n",
              "    [theme=dark] .colab-df-convert:hover {\n",
              "      background-color: #434B5C;\n",
              "      box-shadow: 0px 1px 3px 1px rgba(0, 0, 0, 0.15);\n",
              "      filter: drop-shadow(0px 1px 2px rgba(0, 0, 0, 0.3));\n",
              "      fill: #FFFFFF;\n",
              "    }\n",
              "  </style>\n",
              "\n",
              "    <script>\n",
              "      const buttonEl =\n",
              "        document.querySelector('#df-ee1c9c35-b074-4933-88fd-f57ec806a89e button.colab-df-convert');\n",
              "      buttonEl.style.display =\n",
              "        google.colab.kernel.accessAllowed ? 'block' : 'none';\n",
              "\n",
              "      async function convertToInteractive(key) {\n",
              "        const element = document.querySelector('#df-ee1c9c35-b074-4933-88fd-f57ec806a89e');\n",
              "        const dataTable =\n",
              "          await google.colab.kernel.invokeFunction('convertToInteractive',\n",
              "                                                    [key], {});\n",
              "        if (!dataTable) return;\n",
              "\n",
              "        const docLinkHtml = 'Like what you see? Visit the ' +\n",
              "          '<a target=\"_blank\" href=https://colab.research.google.com/notebooks/data_table.ipynb>data table notebook</a>'\n",
              "          + ' to learn more about interactive tables.';\n",
              "        element.innerHTML = '';\n",
              "        dataTable['output_type'] = 'display_data';\n",
              "        await google.colab.output.renderOutput(dataTable, element);\n",
              "        const docLink = document.createElement('div');\n",
              "        docLink.innerHTML = docLinkHtml;\n",
              "        element.appendChild(docLink);\n",
              "      }\n",
              "    </script>\n",
              "  </div>\n",
              "\n",
              "\n",
              "<div id=\"df-924f4fc8-6e9d-4aa4-b885-8cbcdab6d3e3\">\n",
              "  <button class=\"colab-df-quickchart\" onclick=\"quickchart('df-924f4fc8-6e9d-4aa4-b885-8cbcdab6d3e3')\"\n",
              "            title=\"Suggest charts\"\n",
              "            style=\"display:none;\">\n",
              "\n",
              "<svg xmlns=\"http://www.w3.org/2000/svg\" height=\"24px\"viewBox=\"0 0 24 24\"\n",
              "     width=\"24px\">\n",
              "    <g>\n",
              "        <path d=\"M19 3H5c-1.1 0-2 .9-2 2v14c0 1.1.9 2 2 2h14c1.1 0 2-.9 2-2V5c0-1.1-.9-2-2-2zM9 17H7v-7h2v7zm4 0h-2V7h2v10zm4 0h-2v-4h2v4z\"/>\n",
              "    </g>\n",
              "</svg>\n",
              "  </button>\n",
              "\n",
              "<style>\n",
              "  .colab-df-quickchart {\n",
              "      --bg-color: #E8F0FE;\n",
              "      --fill-color: #1967D2;\n",
              "      --hover-bg-color: #E2EBFA;\n",
              "      --hover-fill-color: #174EA6;\n",
              "      --disabled-fill-color: #AAA;\n",
              "      --disabled-bg-color: #DDD;\n",
              "  }\n",
              "\n",
              "  [theme=dark] .colab-df-quickchart {\n",
              "      --bg-color: #3B4455;\n",
              "      --fill-color: #D2E3FC;\n",
              "      --hover-bg-color: #434B5C;\n",
              "      --hover-fill-color: #FFFFFF;\n",
              "      --disabled-bg-color: #3B4455;\n",
              "      --disabled-fill-color: #666;\n",
              "  }\n",
              "\n",
              "  .colab-df-quickchart {\n",
              "    background-color: var(--bg-color);\n",
              "    border: none;\n",
              "    border-radius: 50%;\n",
              "    cursor: pointer;\n",
              "    display: none;\n",
              "    fill: var(--fill-color);\n",
              "    height: 32px;\n",
              "    padding: 0;\n",
              "    width: 32px;\n",
              "  }\n",
              "\n",
              "  .colab-df-quickchart:hover {\n",
              "    background-color: var(--hover-bg-color);\n",
              "    box-shadow: 0 1px 2px rgba(60, 64, 67, 0.3), 0 1px 3px 1px rgba(60, 64, 67, 0.15);\n",
              "    fill: var(--button-hover-fill-color);\n",
              "  }\n",
              "\n",
              "  .colab-df-quickchart-complete:disabled,\n",
              "  .colab-df-quickchart-complete:disabled:hover {\n",
              "    background-color: var(--disabled-bg-color);\n",
              "    fill: var(--disabled-fill-color);\n",
              "    box-shadow: none;\n",
              "  }\n",
              "\n",
              "  .colab-df-spinner {\n",
              "    border: 2px solid var(--fill-color);\n",
              "    border-color: transparent;\n",
              "    border-bottom-color: var(--fill-color);\n",
              "    animation:\n",
              "      spin 1s steps(1) infinite;\n",
              "  }\n",
              "\n",
              "  @keyframes spin {\n",
              "    0% {\n",
              "      border-color: transparent;\n",
              "      border-bottom-color: var(--fill-color);\n",
              "      border-left-color: var(--fill-color);\n",
              "    }\n",
              "    20% {\n",
              "      border-color: transparent;\n",
              "      border-left-color: var(--fill-color);\n",
              "      border-top-color: var(--fill-color);\n",
              "    }\n",
              "    30% {\n",
              "      border-color: transparent;\n",
              "      border-left-color: var(--fill-color);\n",
              "      border-top-color: var(--fill-color);\n",
              "      border-right-color: var(--fill-color);\n",
              "    }\n",
              "    40% {\n",
              "      border-color: transparent;\n",
              "      border-right-color: var(--fill-color);\n",
              "      border-top-color: var(--fill-color);\n",
              "    }\n",
              "    60% {\n",
              "      border-color: transparent;\n",
              "      border-right-color: var(--fill-color);\n",
              "    }\n",
              "    80% {\n",
              "      border-color: transparent;\n",
              "      border-right-color: var(--fill-color);\n",
              "      border-bottom-color: var(--fill-color);\n",
              "    }\n",
              "    90% {\n",
              "      border-color: transparent;\n",
              "      border-bottom-color: var(--fill-color);\n",
              "    }\n",
              "  }\n",
              "</style>\n",
              "\n",
              "  <script>\n",
              "    async function quickchart(key) {\n",
              "      const quickchartButtonEl =\n",
              "        document.querySelector('#' + key + ' button');\n",
              "      quickchartButtonEl.disabled = true;  // To prevent multiple clicks.\n",
              "      quickchartButtonEl.classList.add('colab-df-spinner');\n",
              "      try {\n",
              "        const charts = await google.colab.kernel.invokeFunction(\n",
              "            'suggestCharts', [key], {});\n",
              "      } catch (error) {\n",
              "        console.error('Error during call to suggestCharts:', error);\n",
              "      }\n",
              "      quickchartButtonEl.classList.remove('colab-df-spinner');\n",
              "      quickchartButtonEl.classList.add('colab-df-quickchart-complete');\n",
              "    }\n",
              "    (() => {\n",
              "      let quickchartButtonEl =\n",
              "        document.querySelector('#df-924f4fc8-6e9d-4aa4-b885-8cbcdab6d3e3 button');\n",
              "      quickchartButtonEl.style.display =\n",
              "        google.colab.kernel.accessAllowed ? 'block' : 'none';\n",
              "    })();\n",
              "  </script>\n",
              "</div>\n",
              "    </div>\n",
              "  </div>\n"
            ],
            "application/vnd.google.colaboratory.intrinsic+json": {
              "type": "dataframe",
              "summary": "{\n  \"name\": \"data1\",\n  \"rows\": 8,\n  \"fields\": [\n    {\n      \"column\": \"Time(s)\",\n      \"properties\": {\n        \"dtype\": \"number\",\n        \"std\": 425.558916032301,\n        \"min\": -0.008332,\n        \"max\": 1206.0,\n        \"num_unique_values\": 8,\n        \"samples\": [\n          2.495107075456053,\n          2.493341,\n          1206.0\n        ],\n        \"semantic_type\": \"\",\n        \"description\": \"\"\n      }\n    },\n    {\n      \"column\": \"VOLT 1\",\n      \"properties\": {\n        \"dtype\": \"number\",\n        \"std\": 426.11690572886016,\n        \"min\": 1e-06,\n        \"max\": 1206.0,\n        \"num_unique_values\": 8,\n        \"samples\": [\n          1.0131923905472635,\n          1.0381095,\n          1206.0\n        ],\n        \"semantic_type\": \"\",\n        \"description\": \"\"\n      }\n    },\n    {\n      \"column\": \"VOLT 2\",\n      \"properties\": {\n        \"dtype\": \"number\",\n        \"std\": 426.08264897901796,\n        \"min\": 0.02750524437151608,\n        \"max\": 1206.0,\n        \"num_unique_values\": 8,\n        \"samples\": [\n          1.020407252902156,\n          1.025,\n          1206.0\n        ],\n        \"semantic_type\": \"\",\n        \"description\": \"\"\n      }\n    },\n    {\n      \"column\": \"VOLT 3\",\n      \"properties\": {\n        \"dtype\": \"number\",\n        \"std\": 426.0819714730385,\n        \"min\": 0.029408913457537454,\n        \"max\": 1206.0,\n        \"num_unique_values\": 8,\n        \"samples\": [\n          1.0226690555555558,\n          1.025,\n          1206.0\n        ],\n        \"semantic_type\": \"\",\n        \"description\": \"\"\n      }\n    },\n    {\n      \"column\": \"VOLT 4\",\n      \"properties\": {\n        \"dtype\": \"number\",\n        \"std\": 426.11144269369805,\n        \"min\": 0.11896537785355468,\n        \"max\": 1206.0,\n        \"num_unique_values\": 8,\n        \"samples\": [\n          1.0047788814262024,\n          1.025788,\n          1206.0\n        ],\n        \"semantic_type\": \"\",\n        \"description\": \"\"\n      }\n    },\n    {\n      \"column\": \"VOLT 5\",\n      \"properties\": {\n        \"dtype\": \"number\",\n        \"std\": 426.11279661201866,\n        \"min\": 0.09440308794969347,\n        \"max\": 1206.0,\n        \"num_unique_values\": 8,\n        \"samples\": [\n          0.9790849013266998,\n          0.995631,\n          1206.0\n        ],\n        \"semantic_type\": \"\",\n        \"description\": \"\"\n      }\n    },\n    {\n      \"column\": \"VOLT 6\",\n      \"properties\": {\n        \"dtype\": \"number\",\n        \"std\": 426.10741427490126,\n        \"min\": 0.0942415751135027,\n        \"max\": 1206.0,\n        \"num_unique_values\": 8,\n        \"samples\": [\n          0.9966221907131011,\n          1.012654,\n          1206.0\n        ],\n        \"semantic_type\": \"\",\n        \"description\": \"\"\n      }\n    },\n    {\n      \"column\": \"VOLT 7\",\n      \"properties\": {\n        \"dtype\": \"number\",\n        \"std\": 426.08844759094023,\n        \"min\": 0.04641992727501979,\n        \"max\": 1206.0,\n        \"num_unique_values\": 8,\n        \"samples\": [\n          1.0180611260364842,\n          1.025769,\n          1206.0\n        ],\n        \"semantic_type\": \"\",\n        \"description\": \"\"\n      }\n    },\n    {\n      \"column\": \"VOLT 8\",\n      \"properties\": {\n        \"dtype\": \"number\",\n        \"std\": 426.09125650913006,\n        \"min\": 0.04658615305501037,\n        \"max\": 1206.0,\n        \"num_unique_values\": 8,\n        \"samples\": [\n          1.0087051625207297,\n          1.015883,\n          1206.0\n        ],\n        \"semantic_type\": \"\",\n        \"description\": \"\"\n      }\n    },\n    {\n      \"column\": \"VOLT 9\",\n      \"properties\": {\n        \"dtype\": \"number\",\n        \"std\": 426.0857039143386,\n        \"min\": 0.04597801084373491,\n        \"max\": 1206.0,\n        \"num_unique_values\": 8,\n        \"samples\": [\n          1.0260761011608626,\n          1.032353,\n          1206.0\n        ],\n        \"semantic_type\": \"\",\n        \"description\": \"\"\n      }\n    }\n  ]\n}"
            }
          },
          "metadata": {},
          "execution_count": 4
        }
      ]
    },
    {
      "cell_type": "code",
      "source": [
        "# 데이터를 전처리합니다.\n",
        "scaler = MinMaxScaler()\n",
        "scaled_data1 = scaler.fit_transform(data1.drop('Time(s)', axis=1))\n"
      ],
      "metadata": {
        "id": "WESKN07uH3G6"
      },
      "execution_count": 6,
      "outputs": []
    },
    {
      "cell_type": "code",
      "source": [
        "# 데이터를 전처리합니다.\n",
        "scaler = MinMaxScaler()\n",
        "scaled_data2 = scaler.fit_transform(data2.drop('Time(s)', axis=1))\n"
      ],
      "metadata": {
        "id": "bp4w2HVNMzSi"
      },
      "execution_count": 25,
      "outputs": []
    },
    {
      "cell_type": "code",
      "source": [
        "# 데이터를 전처리합니다.\n",
        "scaler = MinMaxScaler()\n",
        "scaled_data3 = scaler.fit_transform(data3.drop('Time(s)', axis=1))\n"
      ],
      "metadata": {
        "id": "5Tyk-XEDMzVU"
      },
      "execution_count": 26,
      "outputs": []
    },
    {
      "cell_type": "code",
      "source": [
        "# 데이터를 전처리합니다.\n",
        "scaler = MinMaxScaler()\n",
        "scaled_data4 = scaler.fit_transform(data4.drop('Time(s)', axis=1))\n"
      ],
      "metadata": {
        "id": "ORXVGxVmMzZE"
      },
      "execution_count": 27,
      "outputs": []
    },
    {
      "cell_type": "code",
      "source": [
        "# 훈련 데이터와 테스트 데이터를 분리합니다.\n",
        "X_train, X_test, y_train, y_test = train_test_split(scaled_data1[:, 1:], scaled_data1[:, 0], test_size=0.2, random_state=42)"
      ],
      "metadata": {
        "id": "ax6FHGRTJrxG"
      },
      "execution_count": 7,
      "outputs": []
    },
    {
      "cell_type": "markdown",
      "source": [
        "### 변수명이 다 똑같기 때문에 testfile 어떤 걸 썼는지 확인해야 함"
      ],
      "metadata": {
        "id": "YJHe4_2uNCUP"
      }
    },
    {
      "cell_type": "code",
      "source": [
        "# 훈련 데이터와 테스트 데이터를 분리합니다.\n",
        "X_train, X_test, y_train, y_test = train_test_split(scaled_data1[:, 1:], scaled_data2[:, 0], test_size=0.2, random_state=42)"
      ],
      "metadata": {
        "id": "ZRWFb6OhM9ot"
      },
      "execution_count": null,
      "outputs": []
    },
    {
      "cell_type": "code",
      "source": [
        "# 훈련 데이터와 테스트 데이터를 분리합니다.\n",
        "X_train, X_test, y_train, y_test = train_test_split(scaled_data1[:, 1:], scaled_data3[:, 0], test_size=0.2, random_state=42)"
      ],
      "metadata": {
        "id": "hTHpwBY3M9sd"
      },
      "execution_count": null,
      "outputs": []
    },
    {
      "cell_type": "code",
      "source": [
        "# 훈련 데이터와 테스트 데이터를 분리합니다.\n",
        "X_train, X_test, y_train, y_test = train_test_split(scaled_data1[:, 1:], scaled_data4[:, 0], test_size=0.2, random_state=42)"
      ],
      "metadata": {
        "id": "XnF4M5PPM9vt"
      },
      "execution_count": null,
      "outputs": []
    },
    {
      "cell_type": "markdown",
      "source": [
        "#### data1"
      ],
      "metadata": {
        "id": "ZA9UJ2jlNJLU"
      }
    },
    {
      "cell_type": "code",
      "source": [
        "# LSTM 모델을 생성합니다.\n",
        "lstm_model = Sequential()\n",
        "lstm_model.add(LSTM(50, activation='relu', input_shape=(X_train.shape[1], 1)))\n",
        "lstm_model.add(Dropout(0.2))\n",
        "lstm_model.add(Dense(1))\n",
        "lstm_model.compile(optimizer='adam', loss='mse')\n"
      ],
      "metadata": {
        "id": "cmMHSxgsH3Ju"
      },
      "execution_count": 8,
      "outputs": []
    },
    {
      "cell_type": "code",
      "source": [
        "# LSTM 모델을 훈련합니다.\n",
        "lstm_model.fit(X_train, y_train, epochs=50, verbose=0)"
      ],
      "metadata": {
        "colab": {
          "base_uri": "https://localhost:8080/"
        },
        "id": "gzxnXgKuH3ML",
        "outputId": "e329a344-72bb-400f-dcd3-beb6b7e95a82"
      },
      "execution_count": 9,
      "outputs": [
        {
          "output_type": "execute_result",
          "data": {
            "text/plain": [
              "<keras.src.callbacks.History at 0x7d8f6b782080>"
            ]
          },
          "metadata": {},
          "execution_count": 9
        }
      ]
    },
    {
      "cell_type": "code",
      "source": [
        "import matplotlib.pyplot as plt"
      ],
      "metadata": {
        "id": "3zvI0BdnK6U7"
      },
      "execution_count": 13,
      "outputs": []
    },
    {
      "cell_type": "code",
      "source": [
        "evaluation = lstm_model.evaluate(X_test, y_test)\n",
        "print(evaluation)"
      ],
      "metadata": {
        "colab": {
          "base_uri": "https://localhost:8080/"
        },
        "id": "l4p8YDukLl_P",
        "outputId": "35749a7a-e442-4549-8736-e589c8abbac0"
      },
      "execution_count": 18,
      "outputs": [
        {
          "output_type": "stream",
          "name": "stdout",
          "text": [
            "8/8 [==============================] - 0s 8ms/step - loss: 1.0087e-04\n",
            "0.0001008660183288157\n"
          ]
        }
      ]
    },
    {
      "cell_type": "code",
      "source": [
        "# 모델 평가\n",
        "evaluation = lstm_model.evaluate(X_test, y_test)\n",
        "test_loss = evaluation  # 손실값\n",
        "\n",
        "print(f\"Test Loss: {test_loss:.4f}\")"
      ],
      "metadata": {
        "colab": {
          "base_uri": "https://localhost:8080/"
        },
        "id": "yEf6ouVGKyvb",
        "outputId": "aed83d67-2a39-4d2f-9cfd-513dafb69c17"
      },
      "execution_count": 20,
      "outputs": [
        {
          "output_type": "stream",
          "name": "stdout",
          "text": [
            "8/8 [==============================] - 0s 3ms/step - loss: 1.0087e-04\n",
            "Test Loss: 0.0001\n"
          ]
        }
      ]
    },
    {
      "cell_type": "code",
      "source": [],
      "metadata": {
        "id": "Vw2La2hMKy03"
      },
      "execution_count": null,
      "outputs": []
    },
    {
      "cell_type": "code",
      "source": [
        "# CNN 모델을 생성합니다.\n",
        "cnn_model = Sequential()\n",
        "cnn_model.add(Conv1D(filters=64, kernel_size=2, activation='relu', input_shape=(X_train.shape[1], 1)))\n",
        "cnn_model.add(MaxPooling1D(pool_size=2))\n",
        "cnn_model.add(Flatten())\n",
        "cnn_model.add(Dense(50, activation='relu'))\n",
        "cnn_model.add(Dense(1))\n",
        "cnn_model.compile(optimizer='adam', loss='mse')"
      ],
      "metadata": {
        "id": "Ily2VQHdJ4J3"
      },
      "execution_count": 37,
      "outputs": []
    },
    {
      "cell_type": "code",
      "source": [
        "# CNN 모델을 훈련합니다.\n",
        "cnn_model.fit(X_train, y_train, epochs=50, verbose=0)"
      ],
      "metadata": {
        "colab": {
          "base_uri": "https://localhost:8080/"
        },
        "id": "tWwRxjg3H3PN",
        "outputId": "c4237f29-afaa-4311-e237-55f8747bc8c5"
      },
      "execution_count": 11,
      "outputs": [
        {
          "output_type": "execute_result",
          "data": {
            "text/plain": [
              "<keras.src.callbacks.History at 0x7d8f682404c0>"
            ]
          },
          "metadata": {},
          "execution_count": 11
        }
      ]
    },
    {
      "cell_type": "code",
      "source": [
        "# 모델 평가\n",
        "evaluation = cnn_model.evaluate(X_test, y_test)\n",
        "test_loss = evaluation  # 손실값\n",
        "\n",
        "print(f\"Test Loss: {test_loss:.4f}\")"
      ],
      "metadata": {
        "colab": {
          "base_uri": "https://localhost:8080/"
        },
        "id": "CWAlo0ZiH3R-",
        "outputId": "46d206c6-cfc8-488a-a5d6-09030582f41b"
      },
      "execution_count": 21,
      "outputs": [
        {
          "output_type": "stream",
          "name": "stdout",
          "text": [
            "8/8 [==============================] - 0s 2ms/step - loss: 7.9191e-06\n",
            "Test Loss: 0.0000\n"
          ]
        }
      ]
    },
    {
      "cell_type": "code",
      "source": [
        "import pandas as pd\n",
        "import matplotlib.pyplot as plt"
      ],
      "metadata": {
        "id": "fNHAYS83Maxm"
      },
      "execution_count": 23,
      "outputs": []
    },
    {
      "cell_type": "code",
      "source": [
        "df = pd.DataFrame(scaled_data1)\n",
        "\n",
        "# 각 열별로 박스 플롯 그리기\n",
        "for column in df:\n",
        "    plt.figure()  # 새로운 그래프 생성\n",
        "    df.boxplot([column])  # 해당 열의 박스 플롯 그리기\n",
        "\n",
        "plt.show()  # 그래프 출력"
      ],
      "metadata": {
        "colab": {
          "base_uri": "https://localhost:8080/",
          "height": 1000
        },
        "id": "QMAU5_ooMnRb",
        "outputId": "40232f0c-2719-4d17-e1bb-91c6d6dbd7b2"
      },
      "execution_count": 24,
      "outputs": [
        {
          "output_type": "display_data",
          "data": {
            "text/plain": [
              "<Figure size 640x480 with 1 Axes>"
            ],
            "image/png": "[encoded data removed]"
          },
          "metadata": {}
        },
        {
          "output_type": "display_data",
          "data": {
            "text/plain": [
              "<Figure size 640x480 with 1 Axes>"
            ],
            "image/png": "[encoded data removed]"
          },
          "metadata": {}
        },
        {
          "output_type": "display_data",
          "data": {
            "text/plain": [
              "<Figure size 640x480 with 1 Axes>"
            ],
            "image/png": "[encoded data removed]"
          },
          "metadata": {}
        },
        {
          "output_type": "display_data",
          "data": {
            "text/plain": [
              "<Figure size 640x480 with 1 Axes>"
            ],
            "image/png": "[encoded data removed]"
          },
          "metadata": {}
        },
        {
          "output_type": "display_data",
          "data": {
            "text/plain": [
              "<Figure size 640x480 with 1 Axes>"
            ],
            "image/png": "[encoded data removed]"
          },
          "metadata": {}
        },
        {
          "output_type": "display_data",
          "data": {
            "text/plain": [
              "<Figure size 640x480 with 1 Axes>"
            ],
            "image/png": "[encoded data removed]"
          },
          "metadata": {}
        },
        {
          "output_type": "display_data",
          "data": {
            "text/plain": [
              "<Figure size 640x480 with 1 Axes>"
            ],
            "image/png": "[encoded data removed]"
          },
          "metadata": {}
        },
        {
          "output_type": "display_data",
          "data": {
            "text/plain": [
              "<Figure size 640x480 with 1 Axes>"
            ],
            "image/png": "[encoded data removed]"
          },
          "metadata": {}
        },
        {
          "output_type": "display_data",
          "data": {
            "text/plain": [
              "<Figure size 640x480 with 1 Axes>"
            ],
            "image/png": "[encoded data removed]"
          },
          "metadata": {}
        }
      ]
    },
    {
      "cell_type": "code",
      "source": [
        "### data2\n",
        "# 훈련 데이터와 테스트 데이터를 분리합니다.\n",
        "X_train, X_test, y_train, y_test = train_test_split(scaled_data1[:, 1:], scaled_data2[:, 0], test_size=0.2, random_state=42)"
      ],
      "metadata": {
        "id": "Q_fOZRKoJ2tu"
      },
      "execution_count": 28,
      "outputs": []
    },
    {
      "cell_type": "code",
      "source": [
        "# LSTM 모델을 훈련합니다.\n",
        "lstm_model.fit(X_train, y_train, epochs=50, verbose=0)"
      ],
      "metadata": {
        "colab": {
          "base_uri": "https://localhost:8080/"
        },
        "id": "JX5L05fdJ2wo",
        "outputId": "34e7268c-5a80-4e8f-bfe5-245b10218f1d"
      },
      "execution_count": 29,
      "outputs": [
        {
          "output_type": "execute_result",
          "data": {
            "text/plain": [
              "<keras.src.callbacks.History at 0x7d8f582d7ac0>"
            ]
          },
          "metadata": {},
          "execution_count": 29
        }
      ]
    },
    {
      "cell_type": "code",
      "source": [
        "# CNN 모델을 훈련합니다.\n",
        "cnn_model.fit(X_train, y_train, epochs=50, verbose=0)"
      ],
      "metadata": {
        "colab": {
          "base_uri": "https://localhost:8080/"
        },
        "id": "tgjf3d-UJ2zy",
        "outputId": "1ad997db-ddaf-479e-b447-594de007810d"
      },
      "execution_count": 30,
      "outputs": [
        {
          "output_type": "execute_result",
          "data": {
            "text/plain": [
              "<keras.src.callbacks.History at 0x7d8f58302980>"
            ]
          },
          "metadata": {},
          "execution_count": 30
        }
      ]
    },
    {
      "cell_type": "code",
      "source": [
        "# 모델 평가\n",
        "evaluation2 = lstm_model.evaluate(X_test, y_test)\n",
        "test_loss = evaluation2  # 손실값\n",
        "\n",
        "print(f\"Test Loss: {test_loss:.4f}\")"
      ],
      "metadata": {
        "colab": {
          "base_uri": "https://localhost:8080/"
        },
        "id": "JK5ZdGtXNfdZ",
        "outputId": "4725d7cf-d591-4786-f8e5-1c348817bf7c"
      },
      "execution_count": 31,
      "outputs": [
        {
          "output_type": "stream",
          "name": "stdout",
          "text": [
            "8/8 [==============================] - 0s 5ms/step - loss: 3.8383e-05\n",
            "Test Loss: 0.0000\n"
          ]
        }
      ]
    },
    {
      "cell_type": "code",
      "source": [
        "# 모델 평가\n",
        "evaluation2 = cnn_model.evaluate(X_test, y_test)\n",
        "test_loss = evaluation2  # 손실값\n",
        "\n",
        "print(f\"Test Loss: {test_loss:.4f}\")"
      ],
      "metadata": {
        "colab": {
          "base_uri": "https://localhost:8080/"
        },
        "id": "ft2k54w_Nfgc",
        "outputId": "afe22bf4-e2f2-4c55-c338-113b21baaa23"
      },
      "execution_count": 32,
      "outputs": [
        {
          "output_type": "stream",
          "name": "stdout",
          "text": [
            "8/8 [==============================] - 0s 2ms/step - loss: 9.5825e-07\n",
            "Test Loss: 0.0000\n"
          ]
        }
      ]
    },
    {
      "cell_type": "code",
      "source": [
        "### data3\n",
        "# 훈련 데이터와 테스트 데이터를 분리합니다.\n",
        "X_train, X_test, y_train, y_test = train_test_split(scaled_data3[:, 1:], scaled_data3[:, 0], test_size=0.2, random_state=42)"
      ],
      "metadata": {
        "id": "ov5DF-dINfjU"
      },
      "execution_count": 33,
      "outputs": []
    },
    {
      "cell_type": "code",
      "source": [
        "# LSTM 모델을 훈련합니다.\n",
        "lstm_model.fit(X_train, y_train, epochs=50, verbose=0)"
      ],
      "metadata": {
        "colab": {
          "base_uri": "https://localhost:8080/"
        },
        "id": "6JcusB3FOHyN",
        "outputId": "1beadef4-f702-47a9-aee0-83935382f469"
      },
      "execution_count": 34,
      "outputs": [
        {
          "output_type": "execute_result",
          "data": {
            "text/plain": [
              "<keras.src.callbacks.History at 0x7d8f5b00f100>"
            ]
          },
          "metadata": {},
          "execution_count": 34
        }
      ]
    },
    {
      "cell_type": "code",
      "source": [
        "# CNN 모델을 훈련합니다.\n",
        "cnn_model.fit(X_train, y_train, epochs=50, verbose=0)"
      ],
      "metadata": {
        "colab": {
          "base_uri": "https://localhost:8080/"
        },
        "id": "aGaFlqJtOH1L",
        "outputId": "66fa2a1a-13f6-4a78-e281-7d7424cc78ec"
      },
      "execution_count": 38,
      "outputs": [
        {
          "output_type": "execute_result",
          "data": {
            "text/plain": [
              "<keras.src.callbacks.History at 0x7d8f582617e0>"
            ]
          },
          "metadata": {},
          "execution_count": 38
        }
      ]
    },
    {
      "cell_type": "code",
      "source": [
        "# 모델 평가\n",
        "evaluation = lstm_model.evaluate(X_test, y_test)\n",
        "test_loss = evaluation  # 손실값\n",
        "\n",
        "print(f\"Test Loss: {test_loss:.9f}\")"
      ],
      "metadata": {
        "colab": {
          "base_uri": "https://localhost:8080/"
        },
        "id": "PrN9q10IOH32",
        "outputId": "e659210b-157a-4b1c-8639-791807318ac3"
      },
      "execution_count": 42,
      "outputs": [
        {
          "output_type": "stream",
          "name": "stdout",
          "text": [
            "8/8 [==============================] - 0s 6ms/step - loss: 2.8706e-05\n",
            "Test Loss: 0.000028706\n"
          ]
        }
      ]
    },
    {
      "cell_type": "code",
      "source": [
        "# 모델 평가\n",
        "evaluation2 = cnn_model.evaluate(X_test, y_test)\n",
        "test_loss = evaluation2  # 손실값\n",
        "\n",
        "print(f\"Test Loss: {test_loss:.9f}\")"
      ],
      "metadata": {
        "colab": {
          "base_uri": "https://localhost:8080/"
        },
        "id": "WoRlIWvbOH61",
        "outputId": "fada0489-4cc3-4346-b873-068de249d778"
      },
      "execution_count": 43,
      "outputs": [
        {
          "output_type": "stream",
          "name": "stdout",
          "text": [
            "8/8 [==============================] - 0s 4ms/step - loss: 1.0807e-07\n",
            "Test Loss: 0.000000108\n"
          ]
        }
      ]
    },
    {
      "cell_type": "code",
      "source": [
        "##### data 4\n",
        "# 훈련 데이터와 테스트 데이터를 분리합니다.\n",
        "X_train, X_test, y_train, y_test = train_test_split(scaled_data4[:, 1:], scaled_data4[:, 0], test_size=0.2, random_state=42)"
      ],
      "metadata": {
        "id": "icuPZ_5wOH9q"
      },
      "execution_count": 44,
      "outputs": []
    },
    {
      "cell_type": "code",
      "source": [
        "# LSTM 모델을 훈련합니다.\n",
        "lstm_model.fit(X_train, y_train, epochs=50, verbose=0)"
      ],
      "metadata": {
        "colab": {
          "base_uri": "https://localhost:8080/"
        },
        "id": "QeVacRk1OIAn",
        "outputId": "4f4deb38-2c03-4f73-c1ff-922340f11f2e"
      },
      "execution_count": 45,
      "outputs": [
        {
          "output_type": "execute_result",
          "data": {
            "text/plain": [
              "<keras.src.callbacks.History at 0x7d8f56864dc0>"
            ]
          },
          "metadata": {},
          "execution_count": 45
        }
      ]
    },
    {
      "cell_type": "code",
      "source": [
        "# CNN 모델을 훈련합니다.\n",
        "cnn_model.fit(X_train, y_train, epochs=50, verbose=0)"
      ],
      "metadata": {
        "colab": {
          "base_uri": "https://localhost:8080/"
        },
        "id": "nZq_MAnhOIDY",
        "outputId": "46371d2a-1465-4ae4-beb0-1a8a0da68ec1"
      },
      "execution_count": 46,
      "outputs": [
        {
          "output_type": "execute_result",
          "data": {
            "text/plain": [
              "<keras.src.callbacks.History at 0x7d8f567d2950>"
            ]
          },
          "metadata": {},
          "execution_count": 46
        }
      ]
    },
    {
      "cell_type": "code",
      "source": [
        "# 모델 평가\n",
        "evaluation = lstm_model.evaluate(X_test, y_test)\n",
        "test_loss = evaluation  # 손실값\n",
        "\n",
        "print(f\"Test Loss: {test_loss:.9f}\")"
      ],
      "metadata": {
        "colab": {
          "base_uri": "https://localhost:8080/"
        },
        "id": "ul4G7WICNfl4",
        "outputId": "88cb70c1-c40d-4b4e-b118-719e3c9ba32c"
      },
      "execution_count": 47,
      "outputs": [
        {
          "output_type": "stream",
          "name": "stdout",
          "text": [
            "8/8 [==============================] - 0s 4ms/step - loss: 1.4364e-06\n",
            "Test Loss: 0.000001436\n"
          ]
        }
      ]
    },
    {
      "cell_type": "code",
      "source": [
        "# 모델 평가\n",
        "evaluation2 = cnn_model.evaluate(X_test, y_test)\n",
        "test_loss = evaluation2  # 손실값\n",
        "\n",
        "print(f\"Test Loss: {test_loss:.9f}\")"
      ],
      "metadata": {
        "colab": {
          "base_uri": "https://localhost:8080/"
        },
        "id": "sbtW9KQJOuRD",
        "outputId": "8b616b71-8391-416f-9090-9f5418e06619"
      },
      "execution_count": 48,
      "outputs": [
        {
          "output_type": "stream",
          "name": "stdout",
          "text": [
            "8/8 [==============================] - 0s 2ms/step - loss: 1.6867e-07\n",
            "Test Loss: 0.000000169\n"
          ]
        }
      ]
    },
    {
      "cell_type": "markdown",
      "source": [
        "### 여기까지 모델 학습"
      ],
      "metadata": {
        "id": "nGCinYN4PKU7"
      }
    },
    {
      "cell_type": "code",
      "source": [],
      "metadata": {
        "id": "_Od6o7EEPKfu"
      },
      "execution_count": null,
      "outputs": []
    },
    {
      "cell_type": "code",
      "source": [],
      "metadata": {
        "id": "RNAO_uCtPKiq"
      },
      "execution_count": null,
      "outputs": []
    },
    {
      "cell_type": "code",
      "source": [],
      "metadata": {
        "id": "aAUIXlFAPKl6"
      },
      "execution_count": null,
      "outputs": []
    },
    {
      "cell_type": "code",
      "source": [],
      "metadata": {
        "id": "_blDF1h2PKo0"
      },
      "execution_count": null,
      "outputs": []
    },
    {
      "cell_type": "code",
      "source": [],
      "metadata": {
        "id": "NabNfY_ZPKrv"
      },
      "execution_count": null,
      "outputs": []
    },
    {
      "cell_type": "code",
      "source": [],
      "metadata": {
        "id": "x_pmEz0gPKui"
      },
      "execution_count": null,
      "outputs": []
    },
    {
      "cell_type": "code",
      "source": [],
      "metadata": {
        "id": "dQhbatogPKxc"
      },
      "execution_count": null,
      "outputs": []
    },
    {
      "cell_type": "code",
      "source": [],
      "metadata": {
        "id": "T_mjASzlPK0R"
      },
      "execution_count": null,
      "outputs": []
    },
    {
      "cell_type": "code",
      "source": [],
      "metadata": {
        "id": "pGc3voLFPK3T"
      },
      "execution_count": null,
      "outputs": []
    },
    {
      "cell_type": "code",
      "source": [],
      "metadata": {
        "id": "uaVlK0CtPK6F"
      },
      "execution_count": null,
      "outputs": []
    },
    {
      "cell_type": "code",
      "source": [],
      "metadata": {
        "id": "j4TwH0Y8PK8_"
      },
      "execution_count": null,
      "outputs": []
    },
    {
      "cell_type": "code",
      "source": [],
      "metadata": {
        "id": "eugI8VIjPK_y"
      },
      "execution_count": null,
      "outputs": []
    },
    {
      "cell_type": "code",
      "source": [],
      "metadata": {
        "id": "5sUAibkDOuUx"
      },
      "execution_count": null,
      "outputs": []
    }
  ]
}